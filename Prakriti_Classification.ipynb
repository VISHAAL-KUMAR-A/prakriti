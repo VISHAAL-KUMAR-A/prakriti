{
 "cells": [
  {
   "cell_type": "code",
   "execution_count": 27,
   "metadata": {},
   "outputs": [
    {
     "name": "stdout",
     "output_type": "stream",
     "text": [
      "Confusion Matrix:\n",
      "[[47  6  5  0  0]\n",
      " [ 4 66  9  0  0]\n",
      " [10  7 43  0  0]\n",
      " [ 2  0  0  0  0]\n",
      " [ 0  0  1  0  0]]\n",
      "Accuracy: 0.78\n",
      "New Prediction: pitta\n"
     ]
    }
   ],
   "source": [
    "import pandas as pd\n",
    "import numpy as np\n",
    "from sklearn.ensemble import RandomForestClassifier\n",
    "from sklearn.model_selection import train_test_split\n",
    "from sklearn.metrics import confusion_matrix, accuracy_score\n",
    "\n",
    "\n",
    "# Read data from CSV file\n",
    "df = pd.read_csv('output1.csv')\n",
    "\n",
    "# Extract features (vata, pitta, kapha) and labels (Prakriti) from the DataFrame\n",
    "scores = np.array(df[['Q1', 'Q2', 'Q3','Q4','Q5','Q6','Q7','Q8','Q9','Q10','Q11','Q12','Q13','Q14','Q15','Q16','Q17','Q18','Q19','Q20','Q21','Q22','Q23','Q24','Q25','Q26','Q27','Q28','Q29','Q30']])\n",
    "labels = np.array(df['RESULT'])\n",
    "d={0:'vata',1:'pitta',2:'kappa',3:'vata-pitta',4:\"vata-kapha\",5:'pitta-kapha',6:'vata-pitta-kapha'}\n",
    "# Split the data into training and testing sets\n",
    "X_train, X_test, y_train, y_test = train_test_split(scores, labels, test_size=0.2)\n",
    "# Create a RandomForestClassifier with 500 estimators\n",
    "clf = RandomForestClassifier(n_estimators=100)\n",
    "\n",
    "# Train the classifier on the training data\n",
    "clf.fit(X_train, y_train)\n",
    "\n",
    "# Make predictions for the test set\n",
    "y_pred = clf.predict(X_test)\n",
    "\n",
    "# Generate and print the confusion matrix\n",
    "conf_matrix = confusion_matrix(y_test, y_pred)\n",
    "print(\"Confusion Matrix:\")\n",
    "print(conf_matrix)\n",
    "\n",
    "# Calculate and print accuracy\n",
    "accuracy = accuracy_score(y_test, y_pred)\n",
    "print(\"Accuracy:\", accuracy)\n",
    "\n",
    "# Make a prediction for a new data point ([15, 7, 8])\n",
    "\n",
    "new_prediction = clf.predict(np.array(np.array([[1,0,2,1,2,1,2,0,2,0,1,1,2,1,2,0,0,2,1,1,2,1,2,0,2,0,1,2,1,0]])))\n",
    "print(\"New Prediction:\", d[new_prediction[0]])\n"
   ]
  },
  {
   "cell_type": "code",
   "execution_count": 20,
   "metadata": {},
   "outputs": [
    {
     "name": "stdout",
     "output_type": "stream",
     "text": [
      "Mean Squared Error: 0.32508558908813745\n",
      "New Prediction: pitta\n"
     ]
    }
   ],
   "source": [
    "import pandas as pd\n",
    "import numpy as np\n",
    "from sklearn.model_selection import train_test_split\n",
    "from sklearn.linear_model import LinearRegression\n",
    "from sklearn.metrics import mean_squared_error\n",
    "\n",
    "# Read data from CSV file\n",
    "df = pd.read_csv('output1.csv')\n",
    "\n",
    "# Extract scores (vata, pitta, kapha) and labels variable for regression\n",
    "scores = np.array(df[['Q1', 'Q2', 'Q3','Q4','Q5','Q6','Q7','Q8','Q9','Q10','Q11','Q12','Q13','Q14','Q15','Q16','Q17','Q18','Q19','Q20','Q21','Q22','Q23','Q24','Q25','Q26','Q27','Q28','Q29','Q30']])\n",
    "labels = np.array(df['RESULT'])\n",
    "\n",
    "# Split the data into training and testing sets\n",
    "X_train, X_test, y_train, y_test = train_test_split(scores, labels, test_size=0.2)\n",
    "\n",
    "# Create a LinearRegression model\n",
    "regressor = LinearRegression()\n",
    "\n",
    "# Train the model on the training data\n",
    "regressor.fit(X_train, y_train)\n",
    "\n",
    "# Make predictions for the test set\n",
    "y_pred = regressor.predict(X_test)\n",
    "\n",
    "# Evaluate the model using mean squared error\n",
    "mse = mean_squared_error(y_test, y_pred)\n",
    "print(\"Mean Squared Error:\", mse)\n",
    "\n",
    "# Make a prediction for a new data point ([1,0,2,1,2,1,2,0,2,0,1,1,2,1,2,0,0,2,1,1,2,1,2,0,2,0,1,2,1,0])\n",
    "new_prediction = int(round(regressor.predict(np.array([[1,0,2,1,2,1,2,0,2,0,1,1,2,1,2,0,0,2,1,1,2,1,2,0,2,0,1,2,1,0]]))[0]))\n",
    "print(\"New Prediction:\", d[new_prediction])\n"
   ]
  },
  {
   "cell_type": "code",
   "execution_count": 21,
   "metadata": {},
   "outputs": [
    {
     "data": {
      "text/plain": [
       "['model.joblib']"
      ]
     },
     "execution_count": 21,
     "metadata": {},
     "output_type": "execute_result"
    }
   ],
   "source": [
    "import joblib\n",
    "joblib.dump(clf, 'model.joblib')"
   ]
  }
 ],
 "metadata": {
  "kernelspec": {
   "display_name": "Python 3",
   "language": "python",
   "name": "python3"
  },
  "language_info": {
   "codemirror_mode": {
    "name": "ipython",
    "version": 3
   },
   "file_extension": ".py",
   "mimetype": "text/x-python",
   "name": "python",
   "nbconvert_exporter": "python",
   "pygments_lexer": "ipython3",
   "version": "3.10.11"
  }
 },
 "nbformat": 4,
 "nbformat_minor": 2
}
